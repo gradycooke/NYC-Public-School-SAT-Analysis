{
 "cells": [
  {
   "cell_type": "markdown",
   "id": "fe0ea788-58dd-459e-8976-fafdb5c05c6d",
   "metadata": {},
   "source": [
    "# NYC Schools SAT Score Analysis\n",
    "\n",
    "### *Author:* Grady Cooke\n",
    "### *Date:* June 8, 2025\n"
   ]
  },
  {
   "cell_type": "markdown",
   "id": "a1a65d7a-ce15-46ce-8fa7-4250b2dffaa1",
   "metadata": {},
   "source": [
    "## Summary\n",
    "\n",
    "Every year, U.S. high school students take the SAT, a standardized test made up of math, reading, and writing sections, each scored out of 800. In this notebook, I analyze SAT performance across NYC public schools using a dataset called schools.csv. The goal is to explore how schools compare and answer a few key questions that could be useful to educators, researchers, and families. Key questions examined include which schools have the strongest math scores, which are the top performers overall, and how performance varies by borough. \n",
    "\n"
   ]
  },
  {
   "cell_type": "markdown",
   "id": "df4dcb69-9b6d-4198-ab69-776d050e2f59",
   "metadata": {},
   "source": [
    "## Dataset Overview"
   ]
  },
  {
   "cell_type": "code",
   "execution_count": 4,
   "id": "d0eb4f16-5a99-460d-a5ba-706b7ef0bbe7",
   "metadata": {
    "executionCancelledAt": null,
    "executionTime": 29,
    "id": "bA5ajAmk7XH6",
    "lastExecutedAt": 1749409120848,
    "lastExecutedByKernel": "a5de89ba-ecb5-4646-adb6-6172d8313319",
    "lastScheduledRunId": null,
    "lastSuccessfullyExecutedCode": "# Re-run this cell \nimport pandas as pd\n\n# Read in the data\nschools = pd.read_csv(\"schools.csv\")\n\n# Preview the data\nschools.head()\n",
    "outputsMetadata": {
     "0": {
      "height": 550,
      "tableState": {},
      "type": "dataFrame"
     }
    }
   },
   "outputs": [
    {
     "data": {
      "text/html": [
       "<div>\n",
       "<style scoped>\n",
       "    .dataframe tbody tr th:only-of-type {\n",
       "        vertical-align: middle;\n",
       "    }\n",
       "\n",
       "    .dataframe tbody tr th {\n",
       "        vertical-align: top;\n",
       "    }\n",
       "\n",
       "    .dataframe thead th {\n",
       "        text-align: right;\n",
       "    }\n",
       "</style>\n",
       "<table border=\"1\" class=\"dataframe\">\n",
       "  <thead>\n",
       "    <tr style=\"text-align: right;\">\n",
       "      <th></th>\n",
       "      <th>school_name</th>\n",
       "      <th>borough</th>\n",
       "      <th>building_code</th>\n",
       "      <th>average_math</th>\n",
       "      <th>average_reading</th>\n",
       "      <th>average_writing</th>\n",
       "      <th>percent_tested</th>\n",
       "    </tr>\n",
       "  </thead>\n",
       "  <tbody>\n",
       "    <tr>\n",
       "      <th>0</th>\n",
       "      <td>New Explorations into Science, Technology and ...</td>\n",
       "      <td>Manhattan</td>\n",
       "      <td>M022</td>\n",
       "      <td>657</td>\n",
       "      <td>601</td>\n",
       "      <td>601</td>\n",
       "      <td>NaN</td>\n",
       "    </tr>\n",
       "    <tr>\n",
       "      <th>1</th>\n",
       "      <td>Essex Street Academy</td>\n",
       "      <td>Manhattan</td>\n",
       "      <td>M445</td>\n",
       "      <td>395</td>\n",
       "      <td>411</td>\n",
       "      <td>387</td>\n",
       "      <td>78.9</td>\n",
       "    </tr>\n",
       "    <tr>\n",
       "      <th>2</th>\n",
       "      <td>Lower Manhattan Arts Academy</td>\n",
       "      <td>Manhattan</td>\n",
       "      <td>M445</td>\n",
       "      <td>418</td>\n",
       "      <td>428</td>\n",
       "      <td>415</td>\n",
       "      <td>65.1</td>\n",
       "    </tr>\n",
       "    <tr>\n",
       "      <th>3</th>\n",
       "      <td>High School for Dual Language and Asian Studies</td>\n",
       "      <td>Manhattan</td>\n",
       "      <td>M445</td>\n",
       "      <td>613</td>\n",
       "      <td>453</td>\n",
       "      <td>463</td>\n",
       "      <td>95.9</td>\n",
       "    </tr>\n",
       "    <tr>\n",
       "      <th>4</th>\n",
       "      <td>Henry Street School for International Studies</td>\n",
       "      <td>Manhattan</td>\n",
       "      <td>M056</td>\n",
       "      <td>410</td>\n",
       "      <td>406</td>\n",
       "      <td>381</td>\n",
       "      <td>59.7</td>\n",
       "    </tr>\n",
       "  </tbody>\n",
       "</table>\n",
       "</div>"
      ],
      "text/plain": [
       "                                         school_name    borough building_code  \\\n",
       "0  New Explorations into Science, Technology and ...  Manhattan          M022   \n",
       "1                               Essex Street Academy  Manhattan          M445   \n",
       "2                       Lower Manhattan Arts Academy  Manhattan          M445   \n",
       "3    High School for Dual Language and Asian Studies  Manhattan          M445   \n",
       "4      Henry Street School for International Studies  Manhattan          M056   \n",
       "\n",
       "   average_math  average_reading  average_writing  percent_tested  \n",
       "0           657              601              601             NaN  \n",
       "1           395              411              387            78.9  \n",
       "2           418              428              415            65.1  \n",
       "3           613              453              463            95.9  \n",
       "4           410              406              381            59.7  "
      ]
     },
     "execution_count": 4,
     "metadata": {},
     "output_type": "execute_result"
    }
   ],
   "source": [
    "# Re-run this cell \n",
    "import pandas as pd\n",
    "import seaborn as sns\n",
    "import matplotlib.pyplot as plt\n",
    "\n",
    "# Read in the data\n",
    "schools = pd.read_csv(\"schools.csv\")\n",
    "\n",
    "# Preview the data\n",
    "schools.head()"
   ]
  },
  {
   "cell_type": "code",
   "execution_count": 5,
   "id": "6d9d61ad-407a-4e1f-8788-71886f65a977",
   "metadata": {},
   "outputs": [
    {
     "name": "stdout",
     "output_type": "stream",
     "text": [
      "<class 'pandas.core.frame.DataFrame'>\n",
      "RangeIndex: 375 entries, 0 to 374\n",
      "Data columns (total 7 columns):\n",
      " #   Column           Non-Null Count  Dtype  \n",
      "---  ------           --------------  -----  \n",
      " 0   school_name      375 non-null    object \n",
      " 1   borough          375 non-null    object \n",
      " 2   building_code    375 non-null    object \n",
      " 3   average_math     375 non-null    int64  \n",
      " 4   average_reading  375 non-null    int64  \n",
      " 5   average_writing  375 non-null    int64  \n",
      " 6   percent_tested   355 non-null    float64\n",
      "dtypes: float64(1), int64(3), object(3)\n",
      "memory usage: 20.6+ KB\n"
     ]
    }
   ],
   "source": [
    "schools.info()"
   ]
  },
  {
   "cell_type": "code",
   "execution_count": 6,
   "id": "c024bc81-dbec-4f59-b5ca-4fb3229d434a",
   "metadata": {},
   "outputs": [
    {
     "data": {
      "text/html": [
       "<div>\n",
       "<style scoped>\n",
       "    .dataframe tbody tr th:only-of-type {\n",
       "        vertical-align: middle;\n",
       "    }\n",
       "\n",
       "    .dataframe tbody tr th {\n",
       "        vertical-align: top;\n",
       "    }\n",
       "\n",
       "    .dataframe thead th {\n",
       "        text-align: right;\n",
       "    }\n",
       "</style>\n",
       "<table border=\"1\" class=\"dataframe\">\n",
       "  <thead>\n",
       "    <tr style=\"text-align: right;\">\n",
       "      <th></th>\n",
       "      <th>school_name</th>\n",
       "      <th>borough</th>\n",
       "      <th>building_code</th>\n",
       "      <th>average_math</th>\n",
       "      <th>average_reading</th>\n",
       "      <th>average_writing</th>\n",
       "      <th>percent_tested</th>\n",
       "    </tr>\n",
       "  </thead>\n",
       "  <tbody>\n",
       "    <tr>\n",
       "      <th>count</th>\n",
       "      <td>375</td>\n",
       "      <td>375</td>\n",
       "      <td>375</td>\n",
       "      <td>375.000000</td>\n",
       "      <td>375.000000</td>\n",
       "      <td>375.000000</td>\n",
       "      <td>355.000000</td>\n",
       "    </tr>\n",
       "    <tr>\n",
       "      <th>unique</th>\n",
       "      <td>375</td>\n",
       "      <td>5</td>\n",
       "      <td>233</td>\n",
       "      <td>NaN</td>\n",
       "      <td>NaN</td>\n",
       "      <td>NaN</td>\n",
       "      <td>NaN</td>\n",
       "    </tr>\n",
       "    <tr>\n",
       "      <th>top</th>\n",
       "      <td>New Explorations into Science, Technology and ...</td>\n",
       "      <td>Brooklyn</td>\n",
       "      <td>X425</td>\n",
       "      <td>NaN</td>\n",
       "      <td>NaN</td>\n",
       "      <td>NaN</td>\n",
       "      <td>NaN</td>\n",
       "    </tr>\n",
       "    <tr>\n",
       "      <th>freq</th>\n",
       "      <td>1</td>\n",
       "      <td>109</td>\n",
       "      <td>6</td>\n",
       "      <td>NaN</td>\n",
       "      <td>NaN</td>\n",
       "      <td>NaN</td>\n",
       "      <td>NaN</td>\n",
       "    </tr>\n",
       "    <tr>\n",
       "      <th>mean</th>\n",
       "      <td>NaN</td>\n",
       "      <td>NaN</td>\n",
       "      <td>NaN</td>\n",
       "      <td>432.944000</td>\n",
       "      <td>424.504000</td>\n",
       "      <td>418.458667</td>\n",
       "      <td>64.976338</td>\n",
       "    </tr>\n",
       "    <tr>\n",
       "      <th>std</th>\n",
       "      <td>NaN</td>\n",
       "      <td>NaN</td>\n",
       "      <td>NaN</td>\n",
       "      <td>71.952373</td>\n",
       "      <td>61.881069</td>\n",
       "      <td>64.548599</td>\n",
       "      <td>18.747634</td>\n",
       "    </tr>\n",
       "    <tr>\n",
       "      <th>min</th>\n",
       "      <td>NaN</td>\n",
       "      <td>NaN</td>\n",
       "      <td>NaN</td>\n",
       "      <td>317.000000</td>\n",
       "      <td>302.000000</td>\n",
       "      <td>284.000000</td>\n",
       "      <td>18.500000</td>\n",
       "    </tr>\n",
       "    <tr>\n",
       "      <th>25%</th>\n",
       "      <td>NaN</td>\n",
       "      <td>NaN</td>\n",
       "      <td>NaN</td>\n",
       "      <td>386.000000</td>\n",
       "      <td>386.000000</td>\n",
       "      <td>382.000000</td>\n",
       "      <td>50.950000</td>\n",
       "    </tr>\n",
       "    <tr>\n",
       "      <th>50%</th>\n",
       "      <td>NaN</td>\n",
       "      <td>NaN</td>\n",
       "      <td>NaN</td>\n",
       "      <td>415.000000</td>\n",
       "      <td>413.000000</td>\n",
       "      <td>403.000000</td>\n",
       "      <td>64.800000</td>\n",
       "    </tr>\n",
       "    <tr>\n",
       "      <th>75%</th>\n",
       "      <td>NaN</td>\n",
       "      <td>NaN</td>\n",
       "      <td>NaN</td>\n",
       "      <td>458.500000</td>\n",
       "      <td>445.000000</td>\n",
       "      <td>437.500000</td>\n",
       "      <td>79.600000</td>\n",
       "    </tr>\n",
       "    <tr>\n",
       "      <th>max</th>\n",
       "      <td>NaN</td>\n",
       "      <td>NaN</td>\n",
       "      <td>NaN</td>\n",
       "      <td>754.000000</td>\n",
       "      <td>697.000000</td>\n",
       "      <td>693.000000</td>\n",
       "      <td>100.000000</td>\n",
       "    </tr>\n",
       "  </tbody>\n",
       "</table>\n",
       "</div>"
      ],
      "text/plain": [
       "                                              school_name   borough  \\\n",
       "count                                                 375       375   \n",
       "unique                                                375         5   \n",
       "top     New Explorations into Science, Technology and ...  Brooklyn   \n",
       "freq                                                    1       109   \n",
       "mean                                                  NaN       NaN   \n",
       "std                                                   NaN       NaN   \n",
       "min                                                   NaN       NaN   \n",
       "25%                                                   NaN       NaN   \n",
       "50%                                                   NaN       NaN   \n",
       "75%                                                   NaN       NaN   \n",
       "max                                                   NaN       NaN   \n",
       "\n",
       "       building_code  average_math  average_reading  average_writing  \\\n",
       "count            375    375.000000       375.000000       375.000000   \n",
       "unique           233           NaN              NaN              NaN   \n",
       "top             X425           NaN              NaN              NaN   \n",
       "freq               6           NaN              NaN              NaN   \n",
       "mean             NaN    432.944000       424.504000       418.458667   \n",
       "std              NaN     71.952373        61.881069        64.548599   \n",
       "min              NaN    317.000000       302.000000       284.000000   \n",
       "25%              NaN    386.000000       386.000000       382.000000   \n",
       "50%              NaN    415.000000       413.000000       403.000000   \n",
       "75%              NaN    458.500000       445.000000       437.500000   \n",
       "max              NaN    754.000000       697.000000       693.000000   \n",
       "\n",
       "        percent_tested  \n",
       "count       355.000000  \n",
       "unique             NaN  \n",
       "top                NaN  \n",
       "freq               NaN  \n",
       "mean         64.976338  \n",
       "std          18.747634  \n",
       "min          18.500000  \n",
       "25%          50.950000  \n",
       "50%          64.800000  \n",
       "75%          79.600000  \n",
       "max         100.000000  "
      ]
     },
     "execution_count": 6,
     "metadata": {},
     "output_type": "execute_result"
    }
   ],
   "source": [
    "schools.describe(include='all')"
   ]
  },
  {
   "cell_type": "markdown",
   "id": "cdf37188-1543-47c2-b658-77e2a99c5c17",
   "metadata": {},
   "source": [
    "The dataset preview shows that NYC public schools vary widely in average SAT performance. While average section scores hover around the mid-400s, a few schools significantly outperform others."
   ]
  },
  {
   "cell_type": "markdown",
   "id": "57e3353f-4786-46ac-8000-32619fbfe419",
   "metadata": {},
   "source": [
    "## Analyzing Math SAT Results"
   ]
  },
  {
   "cell_type": "markdown",
   "id": "c8ac6edd-6f31-4aca-9e9f-86760ab4f549",
   "metadata": {},
   "source": [
    "Which NYC schools have the best math results?\n",
    "\n",
    "The best math results are defined to be at least 80% of the *maximum possible score of 800* for math."
   ]
  },
  {
   "cell_type": "code",
   "execution_count": 10,
   "id": "cacecdf0-1639-43bd-b0b9-d3cedc622c69",
   "metadata": {
    "executionCancelledAt": null,
    "executionTime": 53,
    "lastExecutedAt": 1749409120901,
    "lastExecutedByKernel": "a5de89ba-ecb5-4646-adb6-6172d8313319",
    "lastScheduledRunId": null,
    "lastSuccessfullyExecutedCode": "# Which NYC schools have the best math results?\n\n# The best math results are at least 80% of the *maximum possible score of 800* for math.\n\n# Select desired columns\nschools_name_and_math = schools[[\"school_name\",\"average_math\"]]\n\n# Set filter\nfilter = 0.8 * 800\n\n# Filter by math score \nbest_math_schools = schools_name_and_math[schools_name_and_math[\"average_math\"] >= filter]\n\n# Sort by math score\nbest_math_schools = best_math_schools.sort_values(\"average_math\", ascending = False)\n\n# Reset indices\nbest_math_schools.reset_index(drop=True, inplace=True)\n\n# View the result\nprint(\"Top Schools with Best Math Scores:\")\ndisplay(best_math_schools)",
    "outputsMetadata": {
     "0": {
      "height": 500,
      "tableState": {},
      "type": "dataFrame"
     },
     "1": {
      "height": 500,
      "tableState": {},
      "type": "dataFrame"
     }
    }
   },
   "outputs": [
    {
     "name": "stdout",
     "output_type": "stream",
     "text": [
      "Top Schools with Best Math Scores:\n"
     ]
    },
    {
     "data": {
      "text/html": [
       "<div>\n",
       "<style scoped>\n",
       "    .dataframe tbody tr th:only-of-type {\n",
       "        vertical-align: middle;\n",
       "    }\n",
       "\n",
       "    .dataframe tbody tr th {\n",
       "        vertical-align: top;\n",
       "    }\n",
       "\n",
       "    .dataframe thead th {\n",
       "        text-align: right;\n",
       "    }\n",
       "</style>\n",
       "<table border=\"1\" class=\"dataframe\">\n",
       "  <thead>\n",
       "    <tr style=\"text-align: right;\">\n",
       "      <th></th>\n",
       "      <th>school_name</th>\n",
       "      <th>average_math</th>\n",
       "    </tr>\n",
       "  </thead>\n",
       "  <tbody>\n",
       "    <tr>\n",
       "      <th>0</th>\n",
       "      <td>Stuyvesant High School</td>\n",
       "      <td>754</td>\n",
       "    </tr>\n",
       "    <tr>\n",
       "      <th>1</th>\n",
       "      <td>Bronx High School of Science</td>\n",
       "      <td>714</td>\n",
       "    </tr>\n",
       "    <tr>\n",
       "      <th>2</th>\n",
       "      <td>Staten Island Technical High School</td>\n",
       "      <td>711</td>\n",
       "    </tr>\n",
       "    <tr>\n",
       "      <th>3</th>\n",
       "      <td>Queens High School for the Sciences at York Co...</td>\n",
       "      <td>701</td>\n",
       "    </tr>\n",
       "    <tr>\n",
       "      <th>4</th>\n",
       "      <td>High School for Mathematics, Science, and Engi...</td>\n",
       "      <td>683</td>\n",
       "    </tr>\n",
       "    <tr>\n",
       "      <th>5</th>\n",
       "      <td>Brooklyn Technical High School</td>\n",
       "      <td>682</td>\n",
       "    </tr>\n",
       "    <tr>\n",
       "      <th>6</th>\n",
       "      <td>Townsend Harris High School</td>\n",
       "      <td>680</td>\n",
       "    </tr>\n",
       "    <tr>\n",
       "      <th>7</th>\n",
       "      <td>High School of American Studies at Lehman College</td>\n",
       "      <td>669</td>\n",
       "    </tr>\n",
       "    <tr>\n",
       "      <th>8</th>\n",
       "      <td>New Explorations into Science, Technology and ...</td>\n",
       "      <td>657</td>\n",
       "    </tr>\n",
       "    <tr>\n",
       "      <th>9</th>\n",
       "      <td>Eleanor Roosevelt High School</td>\n",
       "      <td>641</td>\n",
       "    </tr>\n",
       "  </tbody>\n",
       "</table>\n",
       "</div>"
      ],
      "text/plain": [
       "                                         school_name  average_math\n",
       "0                             Stuyvesant High School           754\n",
       "1                       Bronx High School of Science           714\n",
       "2                Staten Island Technical High School           711\n",
       "3  Queens High School for the Sciences at York Co...           701\n",
       "4  High School for Mathematics, Science, and Engi...           683\n",
       "5                     Brooklyn Technical High School           682\n",
       "6                        Townsend Harris High School           680\n",
       "7  High School of American Studies at Lehman College           669\n",
       "8  New Explorations into Science, Technology and ...           657\n",
       "9                      Eleanor Roosevelt High School           641"
      ]
     },
     "metadata": {},
     "output_type": "display_data"
    }
   ],
   "source": [
    "# Select desired columns\n",
    "schools_name_and_math = schools[[\"school_name\",\"average_math\"]]\n",
    "\n",
    "# Set filter\n",
    "filter = 0.8 * 800\n",
    "\n",
    "# Filter by math score \n",
    "best_math_schools = schools_name_and_math[schools_name_and_math[\"average_math\"] >= filter]\n",
    "\n",
    "# Sort by math score\n",
    "best_math_schools = best_math_schools.sort_values(\"average_math\", ascending = False)\n",
    "\n",
    "# Reset indices\n",
    "best_math_schools.reset_index(drop=True, inplace=True)\n",
    "\n",
    "# View the result\n",
    "print(\"Top Schools with Best Math Scores:\")\n",
    "display(best_math_schools)"
   ]
  },
  {
   "cell_type": "markdown",
   "id": "a8329b17-f33d-4111-b4b4-c17d714524f2",
   "metadata": {},
   "source": [
    "It would be interesting to evaluate the following question: Of these top math schools, are high scores in math associated with high scores in the reading and writing sections of the SAT?"
   ]
  },
  {
   "cell_type": "code",
   "execution_count": 12,
   "id": "27607319-e340-4ab6-a268-8f1fc3b5ce31",
   "metadata": {},
   "outputs": [
    {
     "data": {
      "image/png": "[encoded data removed]",
      "text/plain": [
       "<Figure size 600x400 with 2 Axes>"
      ]
     },
     "metadata": {},
     "output_type": "display_data"
    }
   ],
   "source": [
    "# Create a DataFrame with all SAT sections for top 10 schools\n",
    "top10_full = schools.loc[schools[\"school_name\"].isin(best_math_schools[\"school_name\"])][\n",
    "    [\"school_name\", \"average_math\", \"average_reading\", \"average_writing\"]\n",
    "]\n",
    "\n",
    "# Compute the correlation matrix\n",
    "correlation_matrix = top10_full[[\"average_math\", \"average_reading\", \"average_writing\"]].corr()\n",
    "\n",
    "\n",
    "plt.figure(figsize=(6, 4))\n",
    "sns.heatmap(correlation_matrix, annot=True, cmap=\"YlGnBu\")\n",
    "plt.title(\"SAT Section Correlation (Top 10 Math Schools)\")\n",
    "plt.show()"
   ]
  },
  {
   "cell_type": "markdown",
   "id": "ef49aa51-1d56-4b03-ba8f-776408022638",
   "metadata": {},
   "source": [
    "Math scores are positively correlated with reading (0.70) and, to a lesser extent, writing (0.59), indicating that while strong performance in math often aligns with strength in other sections, it's not tightly linked. Unsurprisingly, the heatmap shows a strong positive correlation between reading and writing scores (0.96), suggesting students tend to perform similarly in those areas. "
   ]
  },
  {
   "cell_type": "markdown",
   "id": "2a1669ec-859b-49e9-ba6e-78325c43cbff",
   "metadata": {},
   "source": [
    "## Analyzing Total SAT Score"
   ]
  },
  {
   "cell_type": "markdown",
   "id": "4d53493b-b891-47a6-9db9-f603a2f1810e",
   "metadata": {},
   "source": [
    "What are the top 10 performing schools based on the combined SAT scores?"
   ]
  },
  {
   "cell_type": "code",
   "execution_count": 16,
   "id": "d0864f23-94f4-4515-adb7-e5a503abe6fa",
   "metadata": {
    "executionCancelledAt": null,
    "executionTime": 53,
    "lastExecutedAt": 1749409120954,
    "lastExecutedByKernel": "a5de89ba-ecb5-4646-adb6-6172d8313319",
    "lastScheduledRunId": null,
    "lastSuccessfullyExecutedCode": "# What are the top 10 performing schools based on the combined SAT scores?\n\n# Create a new column for total SAT score\nschools[\"total_SAT\"] = (\n    schools[\"average_math\"] + \n    schools[\"average_reading\"] + \n    schools[\"average_writing\"]\n)\n\n# Select appropriate columns, sort by SAT score, and take top 10 results\ntop_10_schools = schools[[\"school_name\",\"total_SAT\"]].sort_values(\"total_SAT\", ascending = False).head(10)\n\n# Reset indices\ntop_10_schools.reset_index(drop=True, inplace=True)\n\n# View the result\nprint(\"Top 10 Performing Schools by Total SAT:\")\ndisplay(top_10_schools)",
    "outputsMetadata": {
     "0": {
      "height": 500,
      "tableState": {},
      "type": "dataFrame"
     },
     "1": {
      "height": 500,
      "tableState": {},
      "type": "dataFrame"
     }
    }
   },
   "outputs": [
    {
     "name": "stdout",
     "output_type": "stream",
     "text": [
      "Top 10 Performing Schools by Total SAT:\n"
     ]
    },
    {
     "data": {
      "text/html": [
       "<div>\n",
       "<style scoped>\n",
       "    .dataframe tbody tr th:only-of-type {\n",
       "        vertical-align: middle;\n",
       "    }\n",
       "\n",
       "    .dataframe tbody tr th {\n",
       "        vertical-align: top;\n",
       "    }\n",
       "\n",
       "    .dataframe thead th {\n",
       "        text-align: right;\n",
       "    }\n",
       "</style>\n",
       "<table border=\"1\" class=\"dataframe\">\n",
       "  <thead>\n",
       "    <tr style=\"text-align: right;\">\n",
       "      <th></th>\n",
       "      <th>school_name</th>\n",
       "      <th>total_SAT</th>\n",
       "    </tr>\n",
       "  </thead>\n",
       "  <tbody>\n",
       "    <tr>\n",
       "      <th>0</th>\n",
       "      <td>Stuyvesant High School</td>\n",
       "      <td>2144</td>\n",
       "    </tr>\n",
       "    <tr>\n",
       "      <th>1</th>\n",
       "      <td>Bronx High School of Science</td>\n",
       "      <td>2041</td>\n",
       "    </tr>\n",
       "    <tr>\n",
       "      <th>2</th>\n",
       "      <td>Staten Island Technical High School</td>\n",
       "      <td>2041</td>\n",
       "    </tr>\n",
       "    <tr>\n",
       "      <th>3</th>\n",
       "      <td>High School of American Studies at Lehman College</td>\n",
       "      <td>2013</td>\n",
       "    </tr>\n",
       "    <tr>\n",
       "      <th>4</th>\n",
       "      <td>Townsend Harris High School</td>\n",
       "      <td>1981</td>\n",
       "    </tr>\n",
       "    <tr>\n",
       "      <th>5</th>\n",
       "      <td>Queens High School for the Sciences at York Co...</td>\n",
       "      <td>1947</td>\n",
       "    </tr>\n",
       "    <tr>\n",
       "      <th>6</th>\n",
       "      <td>Bard High School Early College</td>\n",
       "      <td>1914</td>\n",
       "    </tr>\n",
       "    <tr>\n",
       "      <th>7</th>\n",
       "      <td>Brooklyn Technical High School</td>\n",
       "      <td>1896</td>\n",
       "    </tr>\n",
       "    <tr>\n",
       "      <th>8</th>\n",
       "      <td>Eleanor Roosevelt High School</td>\n",
       "      <td>1889</td>\n",
       "    </tr>\n",
       "    <tr>\n",
       "      <th>9</th>\n",
       "      <td>High School for Mathematics, Science, and Engi...</td>\n",
       "      <td>1889</td>\n",
       "    </tr>\n",
       "  </tbody>\n",
       "</table>\n",
       "</div>"
      ],
      "text/plain": [
       "                                         school_name  total_SAT\n",
       "0                             Stuyvesant High School       2144\n",
       "1                       Bronx High School of Science       2041\n",
       "2                Staten Island Technical High School       2041\n",
       "3  High School of American Studies at Lehman College       2013\n",
       "4                        Townsend Harris High School       1981\n",
       "5  Queens High School for the Sciences at York Co...       1947\n",
       "6                     Bard High School Early College       1914\n",
       "7                     Brooklyn Technical High School       1896\n",
       "8                      Eleanor Roosevelt High School       1889\n",
       "9  High School for Mathematics, Science, and Engi...       1889"
      ]
     },
     "metadata": {},
     "output_type": "display_data"
    }
   ],
   "source": [
    "# Create a new column for total SAT score\n",
    "schools[\"total_SAT\"] = (\n",
    "    schools[\"average_math\"] + \n",
    "    schools[\"average_reading\"] + \n",
    "    schools[\"average_writing\"]\n",
    ")\n",
    "\n",
    "# Select appropriate columns, sort by SAT score, and take top 10 results\n",
    "top_10_schools = schools[[\"school_name\",\"total_SAT\"]].sort_values(\"total_SAT\", ascending = False).head(10)\n",
    "\n",
    "# Reset indices\n",
    "top_10_schools.reset_index(drop=True, inplace=True)\n",
    "\n",
    "# View the result\n",
    "print(\"Top 10 Performing Schools by Total SAT:\")\n",
    "display(top_10_schools)"
   ]
  },
  {
   "cell_type": "markdown",
   "id": "1a2bca40-0f85-4755-9114-f6bfd2c3d2ce",
   "metadata": {},
   "source": [
    "Which single borough has the largest standard deviation in the combined SAT score?"
   ]
  },
  {
   "cell_type": "code",
   "execution_count": 18,
   "id": "f604051e-454e-492d-a3ad-a3c755995e95",
   "metadata": {
    "executionCancelledAt": null,
    "executionTime": 54,
    "lastExecutedAt": 1749409121008,
    "lastExecutedByKernel": "a5de89ba-ecb5-4646-adb6-6172d8313319",
    "lastScheduledRunId": null,
    "lastSuccessfullyExecutedCode": "# Which single borough has the largest standard deviation in the combined SAT score?\n\n# The Total SAT column was defined in the code above\n\n# Group by borough and compute stats\nboroughs = schools.groupby(\"borough\")[\"total_SAT\"].agg([\"count\", \"mean\", \"std\"]).round(2).reset_index()\n\n# Filter for the borough with the largest std deviation\nlargest_std_dev = boroughs[boroughs[\"std\"] == boroughs[\"std\"].max()]\n\n# Rename columns\nlargest_std_dev = largest_std_dev.rename(\n    columns={\n        \"count\": \"num_schools\",\n        \"mean\": \"average_SAT\",\n        \"std\": \"std_SAT\"\n    }\n)\n\n# Reset indices\nlargest_std_dev.reset_index(drop=True, inplace=True)\n\n# View the result\nprint(\"Borough with the Largest SAT Score Std Dev:\")\ndisplay(largest_std_dev)",
    "outputsMetadata": {
     "0": {
      "height": 500,
      "tableState": {},
      "type": "dataFrame"
     },
     "1": {
      "height": 500,
      "tableState": {},
      "type": "dataFrame"
     }
    }
   },
   "outputs": [
    {
     "name": "stdout",
     "output_type": "stream",
     "text": [
      "Borough with the Largest SAT Score Std Dev:\n"
     ]
    },
    {
     "data": {
      "text/html": [
       "<div>\n",
       "<style scoped>\n",
       "    .dataframe tbody tr th:only-of-type {\n",
       "        vertical-align: middle;\n",
       "    }\n",
       "\n",
       "    .dataframe tbody tr th {\n",
       "        vertical-align: top;\n",
       "    }\n",
       "\n",
       "    .dataframe thead th {\n",
       "        text-align: right;\n",
       "    }\n",
       "</style>\n",
       "<table border=\"1\" class=\"dataframe\">\n",
       "  <thead>\n",
       "    <tr style=\"text-align: right;\">\n",
       "      <th></th>\n",
       "      <th>borough</th>\n",
       "      <th>num_schools</th>\n",
       "      <th>average_SAT</th>\n",
       "      <th>std_SAT</th>\n",
       "    </tr>\n",
       "  </thead>\n",
       "  <tbody>\n",
       "    <tr>\n",
       "      <th>0</th>\n",
       "      <td>Manhattan</td>\n",
       "      <td>89</td>\n",
       "      <td>1340.13</td>\n",
       "      <td>230.29</td>\n",
       "    </tr>\n",
       "  </tbody>\n",
       "</table>\n",
       "</div>"
      ],
      "text/plain": [
       "     borough  num_schools  average_SAT  std_SAT\n",
       "0  Manhattan           89      1340.13   230.29"
      ]
     },
     "metadata": {},
     "output_type": "display_data"
    }
   ],
   "source": [
    "# The total_SAT column was defined in the code above\n",
    "\n",
    "# Group by borough and compute stats\n",
    "boroughs = schools.groupby(\"borough\")[\"total_SAT\"].agg([\"count\", \"mean\", \"std\"]).round(2).reset_index()\n",
    "\n",
    "# Filter for the borough with the largest std deviation\n",
    "largest_std_dev = boroughs[boroughs[\"std\"] == boroughs[\"std\"].max()]\n",
    "\n",
    "# Rename columns\n",
    "largest_std_dev = largest_std_dev.rename(\n",
    "    columns={\n",
    "        \"count\": \"num_schools\",\n",
    "        \"mean\": \"average_SAT\",\n",
    "        \"std\": \"std_SAT\"\n",
    "    }\n",
    ")\n",
    "\n",
    "# Reset indices\n",
    "largest_std_dev.reset_index(drop=True, inplace=True)\n",
    "\n",
    "# View the result\n",
    "print(\"Borough with the Largest SAT Score Std Dev:\")\n",
    "display(largest_std_dev)"
   ]
  },
  {
   "cell_type": "markdown",
   "id": "b34b9ab9-64d7-44cb-8b33-e01b6174c85e",
   "metadata": {},
   "source": [
    "So, how well is each borough performing? How do total SAT score distributions compare across boroughs?"
   ]
  },
  {
   "cell_type": "code",
   "execution_count": 20,
   "id": "0f96b466-e020-404e-92a6-393e71af445d",
   "metadata": {},
   "outputs": [
    {
     "data": {
      "image/png": "[encoded data removed]",
      "text/plain": [
       "<Figure size 1000x600 with 1 Axes>"
      ]
     },
     "metadata": {},
     "output_type": "display_data"
    }
   ],
   "source": [
    "# Create a box plot of average total SAT score for each borough\n",
    "plt.figure(figsize=(10, 6))\n",
    "sns.boxplot(x='borough', y='total_SAT', data=schools)\n",
    "plt.title(\"Distribution of Total SAT Scores by Borough\")\n",
    "plt.ylabel(\"Total SAT Score\")\n",
    "plt.xlabel(\"Borough\")\n",
    "plt.show()"
   ]
  },
  {
   "cell_type": "markdown",
   "id": "5f4e899e-b528-4c75-b35a-535073501e18",
   "metadata": {},
   "source": [
    "The box plot reveals that while Manhattan has the widest spread of SAT scores—including several high-performing outliers—it also shows considerable variability, supporting its high standard deviation. Staten Island appears more consistent, with scores clustered tightly around the median."
   ]
  },
  {
   "cell_type": "markdown",
   "id": "f5b5d1cc-6a42-4803-a5ff-6f3d88efbf24",
   "metadata": {},
   "source": [
    "## Conclusion\n",
    "\n",
    "This analysis of NYC public school SAT performance uncovered several meaningful trends. First, by filtering for students achieving at least 80% of the maximum math score, we identified a clear group of high-performing schools, with Stuyvesant High School and Bronx High School of Science leading the pack. Correlation analysis among the SAT sections of these top performers revealed a strong relationship between reading and writing scores (r = 0.96), suggesting that verbal proficiency tends to develop in tandem, while math scores showed slightly weaker but still notable correlations with the other sections.\n",
    "\n",
    "Ranking schools by total SAT scores provided a more holistic view of academic excellence, with the same top schools consistently appearing at the top, reinforcing their well-rounded performance. Further analysis grouped schools by borough, revealing that Manhattan has the highest average SAT score but also the greatest variability, indicating both elite schools and those needing support exist within the same district. Finally, a boxplot of SAT score distribution visually confirmed these disparities across boroughs.\n",
    "\n",
    "In summary, this project not only highlighted top-performing schools but also emphasized structural variation in achievement across boroughs. These findings offer actionable insights for educators, parents, and policymakers to celebrate areas of excellence and identify regions where additional support could improve equity in educational outcomes."
   ]
  }
 ],
 "metadata": {
  "editor": "DataLab",
  "kernelspec": {
   "display_name": "Python 3 (ipykernel)",
   "language": "python",
   "name": "python3"
  },
  "language_info": {
   "codemirror_mode": {
    "name": "ipython",
    "version": 3
   },
   "file_extension": ".py",
   "mimetype": "text/x-python",
   "name": "python",
   "nbconvert_exporter": "python",
   "pygments_lexer": "ipython3",
   "version": "3.12.4"
  }
 },
 "nbformat": 4,
 "nbformat_minor": 5
}
